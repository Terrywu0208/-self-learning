{
 "cells": [
  {
   "cell_type": "code",
   "execution_count": null,
   "metadata": {},
   "outputs": [],
   "source": [
    "from sklearn.datasets import load_iris\n",
    "\n",
    "iris = load_iris() #iris dataset"
   ]
  },
  {
   "cell_type": "code",
   "execution_count": null,
   "metadata": {},
   "outputs": [],
   "source": [
    "print(iris[\"data\"]) #feature value\n",
    "print(iris[\"target\"])#target value\n",
    "print(iris[\"DESCR\"])#description\n",
    "print(iris[\"feature_names\"])#feature name\n",
    "print(iris[\"target_names\"])#target name"
   ]
  },
  {
   "cell_type": "code",
   "execution_count": 14,
   "metadata": {},
   "outputs": [
    {
     "name": "stdout",
     "output_type": "stream",
     "text": [
      "(120, 4)\n",
      "(30, 4)\n",
      "(120,)\n",
      "(30,)\n"
     ]
    }
   ],
   "source": [
    "from sklearn.model_selection import train_test_split\n",
    "\n",
    "# 隨機數種子：其實就是該組隨機數的編號，在需要重複試驗的時候，保證得到一組一樣的隨機數。比如你每次都填1，其他引數一樣的情況下你得到的隨機陣列是一樣的。但填0或不填，每次都會不一樣。\n",
    "# 訓練集特徵值 , 測試集特徵值, 訓練集目標值 , 測試集目標值 = train_test_split(特徵值, 目標值, test_size=多少%為測試值 (0.多), random_state=隨機種子(隨便一個數))\n",
    "feature_train, feature_test, target_train , target_test = train_test_split(iris.data, iris.target, test_size=0.2, random_state=22) #將數據劃分成訓練集和測試集 train_test_split()\n",
    "#data.shape可以看到資料有幾筆且有幾個特徵值\n",
    "print(feature_train.shape) \n",
    "print(feature_test.shape)\n",
    "print(target_train.shape)\n",
    "print(target_test.shape)"
   ]
  }
 ],
 "metadata": {
  "interpreter": {
   "hash": "2647ea34e536f865ab67ff9ddee7fd78773d956cec0cab53c79b32cd10da5d83"
  },
  "kernelspec": {
   "display_name": "Python 3.9.5 64-bit",
   "name": "python3"
  },
  "language_info": {
   "codemirror_mode": {
    "name": "ipython",
    "version": 3
   },
   "file_extension": ".py",
   "mimetype": "text/x-python",
   "name": "python",
   "nbconvert_exporter": "python",
   "pygments_lexer": "ipython3",
   "version": "3.9.5"
  },
  "orig_nbformat": 4
 },
 "nbformat": 4,
 "nbformat_minor": 2
}
